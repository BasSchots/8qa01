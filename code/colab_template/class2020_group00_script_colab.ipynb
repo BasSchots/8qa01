{
  "nbformat": 4,
  "nbformat_minor": 0,
  "metadata": {
    "kernelspec": {
      "display_name": "Python 3",
      "language": "python",
      "name": "python3"
    },
    "language_info": {
      "codemirror_mode": {
        "name": "ipython",
        "version": 3
      },
      "file_extension": ".py",
      "mimetype": "text/x-python",
      "name": "python",
      "nbconvert_exporter": "python",
      "pygments_lexer": "ipython3",
      "version": "3.7.3"
    },
    "colab": {
      "name": "class2020_group00_script.ipynb",
      "provenance": []
    }
  },
  "cells": [
    {
      "cell_type": "markdown",
      "metadata": {
        "id": "JdpuaZvEjjp6"
      },
      "source": [
        "# Course Project: Image Analysis for cancer risk assessment (8QA01)"
      ]
    },
    {
      "cell_type": "markdown",
      "metadata": {
        "id": "fJW3HRiUjjp6"
      },
      "source": [
        "\n",
        "Welcome to the project of 8QA01! This notebook contains the steps to go through the images, measure features and display measurements, using functions in the utilities_8qa01.py module. You can add extend this by adding more functions in the module, and calling them from this notebook.\n",
        "\n",
        "\n",
        "Before you start, don't forget to:\n",
        "\n",
        "- Read the README.md file in this repository\n",
        "- Do the \"Getting started\" [essential skills](https://github.com/tueimage/essential-skills) tutorial on Python\n",
        "\n"
      ]
    },
    {
      "cell_type": "markdown",
      "metadata": {
        "id": "oFUxxIdBjjp6"
      },
      "source": [
        "# Step-by-step project walkthrough"
      ]
    },
    {
      "cell_type": "markdown",
      "metadata": {
        "id": "YRiZg-GxlTXD"
      },
      "source": [
        "## 0. Load folders from google drive\n",
        "Change colab_path to the path on google drive that contains the code.\n",
        "You can browse your google drive to find this folder after running the next code cell. Your google drive is then visible under the files icon in the bar on the left as the folder gdrive. "
      ]
    },
    {
      "cell_type": "code",
      "metadata": {
        "colab": {
          "base_uri": "https://localhost:8080/"
        },
        "id": "xLxlNNi-lRIs",
        "outputId": "5ffb3203-b427-4e9e-8583-27f21fee6d88"
      },
      "source": [
        "# Colab imports\n",
        "from google.colab import drive\n",
        "from distutils.dir_util import copy_tree\n",
        "import os\n",
        "import numpy\n",
        "\n",
        "# Path to code folder in colab\n",
        "colab_path = '/content/gdrive/MyDrive/Colab Notebooks/8qa01/code'\n",
        "\n",
        "# Mount drive and change path\n",
        "drive.mount('/content/gdrive/')\n",
        "os.chdir(colab_path)"
      ],
      "execution_count": 1,
      "outputs": [
        {
          "output_type": "stream",
          "text": [
            "Mounted at /content/gdrive/\n"
          ],
          "name": "stdout"
        }
      ]
    },
    {
      "cell_type": "markdown",
      "metadata": {
        "id": "agGCnfEOjjp6"
      },
      "source": [
        "## 1. Import required python packages\n",
        "\n",
        "These packages contain different functionality, for example matplotlib.pyplot is useful for various visualisation techniques. You can import more packages than these, as long as they are common Python packages, or you include them with your code. \n"
      ]
    },
    {
      "cell_type": "code",
      "metadata": {
        "id": "xptm2gbtjjp6"
      },
      "source": [
        "import pandas as pd\n",
        "import numpy as np\n",
        "import matplotlib.pyplot as plt\n",
        "import class2020_group00_functions as util\n",
        "from skimage import morphology\n",
        "from sklearn.model_selection import StratifiedShuffleSplit\n",
        "from sklearn.metrics import accuracy_score"
      ],
      "execution_count": 2,
      "outputs": []
    },
    {
      "cell_type": "markdown",
      "metadata": {
        "id": "G1h5i2jLjjp7"
      },
      "source": [
        "## 2. Specify data locations\n",
        "\n",
        "Change the dataFile variable according to the image set you are using. Also change imagePath and maskPath to the paths of the folders you created containing images and masks respectively."
      ]
    },
    {
      "cell_type": "code",
      "metadata": {
        "id": "X3zg8cgVjjp7"
      },
      "source": [
        "dataFile = 'class2020_group00_labels.xlsx'\n",
        "imagePath = '../images'\n",
        "maskPath = '../masks'"
      ],
      "execution_count": 3,
      "outputs": []
    },
    {
      "cell_type": "markdown",
      "metadata": {
        "id": "tTgH9mfEjjp7"
      },
      "source": [
        "## 3. Load data"
      ]
    },
    {
      "cell_type": "code",
      "metadata": {
        "id": "g-s3FJUDjjp7"
      },
      "source": [
        "# copy images to colab instance\n",
        "copy_tree(imagePath, '/content/images')\n",
        "copy_tree(maskPath, '/content/masks')\n",
        "imagePath = '/content/images'\n",
        "maskPath = '/content/masks'\n",
        "\n",
        "# read data\n",
        "dframe = pd.read_excel(dataFile)"
      ],
      "execution_count": 4,
      "outputs": []
    },
    {
      "cell_type": "markdown",
      "metadata": {
        "id": "kthcDiL2jjp7"
      },
      "source": [
        "## 4. Initialise variables"
      ]
    },
    {
      "cell_type": "code",
      "metadata": {
        "id": "j4EKn42gjjp7"
      },
      "source": [
        "ID = list(dframe['id'])\n",
        "Melanoma = np.array(dframe['melanoma'])\n",
        "numImages = len(ID)\n",
        "featuresArea = np.empty([numImages,1])\n",
        "featuresArea[:] = np.nan\n",
        "featuresPerimeter = np.empty([numImages,1])\n",
        "featuresPerimeter[:] = np.nan\n"
      ],
      "execution_count": 5,
      "outputs": []
    },
    {
      "cell_type": "markdown",
      "metadata": {
        "id": "-wby48G4jjp7"
      },
      "source": [
        "## 5. Measure features for all images"
      ]
    },
    {
      "cell_type": "code",
      "metadata": {
        "id": "CSbS-B8vjjp7",
        "colab": {
          "base_uri": "https://localhost:8080/"
        },
        "outputId": "e54e289f-9de4-4f3a-8ee7-ea4bdc12abf7"
      },
      "source": [
        "%%time\n",
        "for i in np.arange(numImages):\n",
        "    \n",
        "    # Define filenames related to this image\n",
        "    imFile = imagePath + os.sep + ID[i] + '.jpg'\n",
        "    maskFile = maskPath + os.sep + ID[i] + '_segmentation.png'\n",
        "    \n",
        "    # Read the images with these filenames\n",
        "    im = plt.imread(imFile)\n",
        "    mask = plt.imread(maskFile)\n",
        "    \n",
        "    # Measure features\n",
        "    a, p = util.measureAreaPerimeter(mask)\n",
        "    # xx, yy, zz = util.measureYourOwnFeatures(mask)\n",
        "    \n",
        "    # Store in the variables we created before\n",
        "    featuresArea[i,0] = a\n",
        "    featuresPerimeter[i,0] = p\n",
        "    # featuresOther[i,0] = xx"
      ],
      "execution_count": 6,
      "outputs": [
        {
          "output_type": "stream",
          "text": [
            "CPU times: user 8.66 s, sys: 482 ms, total: 9.15 s\n",
            "Wall time: 9.21 s\n"
          ],
          "name": "stdout"
        }
      ]
    },
    {
      "cell_type": "markdown",
      "metadata": {
        "id": "M7LMZ_kMjjp7"
      },
      "source": [
        "## 6. Save measured data"
      ]
    },
    {
      "cell_type": "code",
      "metadata": {
        "id": "CsAqEOjujjp7"
      },
      "source": [
        "outfile = 'group2019_XY_automatic.csv'\n",
        "outdata = {\"id\": ID, \n",
        "           \"area\": featuresArea.flatten(),\n",
        "           \"perimeter\": featuresPerimeter.flatten()}\n",
        "\n",
        "dframe_out = pd.DataFrame(outdata)\n",
        "dframe_out.to_csv(outfile, index=False)"
      ],
      "execution_count": 7,
      "outputs": []
    },
    {
      "cell_type": "markdown",
      "metadata": {
        "id": "op-qweWNjjp7"
      },
      "source": [
        "## 7. Display measured data"
      ]
    },
    {
      "cell_type": "code",
      "metadata": {
        "id": "GTbQh2V1jjp7",
        "colab": {
          "base_uri": "https://localhost:8080/",
          "height": 514
        },
        "outputId": "0b414b62-40ca-4340-f814-430518be56d7"
      },
      "source": [
        "# Load the data you saved, then do some analysis\n",
        "dframe = pd.read_csv(outfile)\n",
        "ID = list(dframe['id'])\n",
        "featuresArea = np.array(dframe['area'])\n",
        "featuresPerimeter = np.array(dframe['perimeter'])\n",
        "\n",
        "# Display the features measured in a scatterplot\n",
        "axs = util.scatter_data(featuresArea, featuresPerimeter, Melanoma)\n",
        "axs.set_xlabel('X1 = Area')\n",
        "axs.set_ylabel('X2 = Perimeter')\n",
        "axs.legend()"
      ],
      "execution_count": 8,
      "outputs": [
        {
          "output_type": "execute_result",
          "data": {
            "text/plain": [
              "<matplotlib.legend.Legend at 0x7f1ef75866d8>"
            ]
          },
          "metadata": {
            "tags": []
          },
          "execution_count": 8
        },
        {
          "output_type": "display_data",
          "data": {
            "image/png": "[encoded data removed]",
            "text/plain": [
              "<Figure size 576x576 with 1 Axes>"
            ]
          },
          "metadata": {
            "tags": [],
            "needs_background": "light"
          }
        }
      ]
    },
    {
      "cell_type": "markdown",
      "metadata": {
        "collapsed": false,
        "id": "yHQfisXwjjp8"
      },
      "source": [
        "## 8. Predict labels using measurements"
      ]
    },
    {
      "cell_type": "code",
      "metadata": {
        "pycharm": {
          "name": "#%%\n"
        },
        "id": "g1GMHprHjjp8",
        "colab": {
          "base_uri": "https://localhost:8080/"
        },
        "outputId": "9c0995c2-44fe-47a8-e3ef-d1ab4d6e95a2"
      },
      "source": [
        "#Define K's that are tested on the validation set and the number of the current fold\n",
        "Validation_K = [4, 5]\n",
        "curr_fold = 0\n",
        "# Load features\n",
        "X = dframe.iloc[:,1:].to_numpy()\n",
        "# Load labels\n",
        "y = Melanoma\n",
        "\n",
        "# Split dataset into 5 different dataset folds for cross-validation\n",
        "kf = StratifiedShuffleSplit(n_splits=5, test_size=0.4, random_state=1)\n",
        "# Predict labels for each fold using the KNN algortihm\n",
        "for train_index, test_val_index in kf.split(X, y):\n",
        "    # Define accuracy score and predictions for test set\n",
        "    Acc_Score = 0\n",
        "    y_pred_test = 0\n",
        "    # split dataset into a train, validation and test dataset\n",
        "    test_index , val_index = np.split(test_val_index, 2)\n",
        "    X_train, X_val, X_test = X[train_index], X[val_index], X[test_index]\n",
        "    y_train, y_val, y_test = y[train_index], y[val_index], y[test_index]\n",
        "    # Generate predictions using knn_classifier for every K\n",
        "    for K in Validation_K:\n",
        "        y_pred_val, y_pred_test_curr = util.knn_classifier(X_train, y_train, X_val, X_test, K)\n",
        "        Curr_Acc = accuracy_score(y_val,y_pred_val)\n",
        "        # If accuracy of the predictions on the validation set is larger than the current accuracy, save predictions\n",
        "        # for test set\n",
        "        if Curr_Acc > Acc_Score:\n",
        "            Acc_Score = Curr_Acc\n",
        "            y_pred_test = y_pred_test_curr\n",
        "    # Add 1 to the number of the current fold and print the accuracy on the test set for the current fold\n",
        "    curr_fold += 1\n",
        "    test_acc = accuracy_score(y_test,y_pred_test)\n",
        "    print('Accuracy of predictions on test set of fold '+ str(curr_fold)+ ': ' + str(test_acc))"
      ],
      "execution_count": 9,
      "outputs": [
        {
          "output_type": "stream",
          "text": [
            "Accuracy of predictions on test set of fold 1: 0.8\n",
            "Accuracy of predictions on test set of fold 2: 0.7\n",
            "Accuracy of predictions on test set of fold 3: 0.7\n",
            "Accuracy of predictions on test set of fold 4: 0.7\n",
            "Accuracy of predictions on test set of fold 5: 0.7\n"
          ],
          "name": "stdout"
        }
      ]
    }
  ]
}